{
  "nbformat": 4,
  "nbformat_minor": 0,
  "metadata": {
    "colab": {
      "provenance": []
    },
    "kernelspec": {
      "name": "python3",
      "display_name": "Python 3"
    },
    "language_info": {
      "name": "python"
    }
  },
  "cells": [
    {
      "cell_type": "markdown",
      "source": [
        "# Hypothesis Testing Exercise "
      ],
      "metadata": {
        "id": "VcdKZGKwbp7G"
      }
    },
    {
      "cell_type": "markdown",
      "source": [
        "# Question 1: Cutlet Question"
      ],
      "metadata": {
        "id": "Ep4HpHpRYp4t"
      }
    },
    {
      "cell_type": "markdown",
      "source": [
        "**Question**- A F&B manager wants to determine whether there is any significant difference in the diameter of the cutlet between two units. A randomly selected sample of cutlets was collected from both units and measured? Analyze the data and draw inferences at 5% signifance level. Please state the assumptions and tests that you carried out to check validity of the assumptions. "
      ],
      "metadata": {
        "id": "4_aOOuUtY00B"
      }
    },
    {
      "cell_type": "markdown",
      "source": [
        "**Answer**- \n",
        "Null hypothesis (H0): There is no significant difference in the diameter of the cutlet between Unit A and Unit B.\n",
        "\n",
        "Alternative hypothesis (H1): There is a significant difference in the diameter of the cutlet between Unit A and Unit B.  \n",
        "\n",
        "Perform a t-test for independent samples to check whether there is a significant difference in the diameter of the cutlet between two units.\n",
        "\n",
        "Interpret the results by looking at the t-statistic, p-value and the significance level."
      ],
      "metadata": {
        "id": "xOn1SuN1hBmU"
      }
    },
    {
      "cell_type": "code",
      "source": [
        "import pandas as pd\n",
        "df = pd.read_csv('/content/Cutlets.csv')"
      ],
      "metadata": {
        "id": "tUTQuBQtXRiI"
      },
      "execution_count": 5,
      "outputs": []
    },
    {
      "cell_type": "code",
      "execution_count": 8,
      "metadata": {
        "colab": {
          "base_uri": "https://localhost:8080/"
        },
        "id": "H5PNGlncUlHO",
        "outputId": "e7289003-36d0-4fa2-a4ff-6463fa99e213"
      },
      "outputs": [
        {
          "output_type": "stream",
          "name": "stdout",
          "text": [
            "t-statistic:  0.7228688704678063\n",
            "p-value:  0.4722394724599501\n",
            "Fail to reject the null hypothesis\n"
          ]
        }
      ],
      "source": [
        "from scipy.stats import ttest_ind\n",
        "\n",
        "# Define the data for Unit A and Unit B\n",
        "unit_a = df['Unit A']\n",
        "unit_b = df['Unit B']\n",
        "\n",
        "# Perform the t-test\n",
        "t_stat, p_val = ttest_ind(unit_a, unit_b)\n",
        "\n",
        "# Print the results\n",
        "print(\"t-statistic: \", t_stat)\n",
        "print(\"p-value: \", p_val)\n",
        "\n",
        "# Check the p-value against the significance level\n",
        "if p_val < 0.05:\n",
        "    print(\"Reject the null hypothesis\")\n",
        "else:\n",
        "    print(\"Fail to reject the null hypothesis\")"
      ]
    },
    {
      "cell_type": "markdown",
      "source": [
        "The t-test is a statistical test that compares the means of two groups (Unit A and Unit B) to see if there is a significant difference between them. The t-statistic is a measure of the size of the difference between the means of the two groups. A larger t-statistic means that the difference between the means is larger, while a smaller t-statistic means that the difference between the means is smaller.\n",
        "\n",
        "The p-value is a measure of how likely it is to see a difference between the means of the two groups as large or larger than the one we observed, if there is actually no difference between the means. A small p-value means that it is unlikely to see a difference as large or larger than the one we observed by chance, while a large p-value means that it is likely to see a difference as large or larger than the one we observed by chance.\n",
        "\n",
        "In this case, the t-statistic is 0.72, which is a small difference between the means of Unit A and Unit B. The p-value is 0.47, which is greater than the significance level of 0.05. This means that there is not enough evidence to suggest that there is a significant difference between the mean diameter of cutlets in Unit A and Unit B. So, we fail to reject the null hypothesis which states that there is no significant difference between the mean diameter of cutlets in Unit A and Unit B.\n"
      ],
      "metadata": {
        "id": "hxK5YP2hVvct"
      }
    },
    {
      "cell_type": "markdown",
      "source": [
        "# Question 2: Laboratory TAT"
      ],
      "metadata": {
        "id": "69Nvb5UIasTH"
      }
    },
    {
      "cell_type": "markdown",
      "source": [
        "**Question-** A hospital wants to determine whether there is any difference in the average Turn Around Time TAT of reports of the laboratories on their preferred list. They collected a random sample and recorded TAT for reports of 4 laboratories. TAT is defined as sample collected to report dispatch. \n",
        "Analyze the data and determine whether there is any difference in average TAT among the different laboratories at 5% significance level. "
      ],
      "metadata": {
        "id": "JzGlLXuXbBZc"
      }
    },
    {
      "cell_type": "markdown",
      "source": [
        "**Answer**- To analyze this data, you could perform a one-way ANOVA test. A one-way ANOVA test is a statistical test that compares the means of multiple groups (in this case, the TAT of reports of 4 laboratories) to see if there is a significant difference among them.\n",
        "\n",
        "H0= There is no difference in the average TAT among the different laboratories.\n",
        "\n",
        "Ha= There is a difference in the average TAT among the different laboratories.\n",
        "\n",
        "The ANOVA test will generate a F-statistic and a p-value. A small p-value (typically less than 0.05) indicates strong evidence against the null hypothesis, while a large p-value (typically greater than 0.05) indicates weak evidence against the null hypothesis. If the p-value is less than the significance level (0.05), we reject the null hypothesis in favor of the alternative hypothesis. If the p-value is greater than the significance level, we fail to reject the null hypothesis."
      ],
      "metadata": {
        "id": "zW-89EBzjqhD"
      }
    },
    {
      "cell_type": "code",
      "source": [
        "import pandas as pd\n",
        "df = pd.read_csv('/content/LabTAT.csv')"
      ],
      "metadata": {
        "id": "TchUyNe6kRAI"
      },
      "execution_count": 9,
      "outputs": []
    },
    {
      "cell_type": "code",
      "source": [
        "from scipy import stats\n",
        "\n",
        "# Define the data for all the 4 labs\n",
        "lab1 = df['Laboratory 1']\n",
        "lab2 = df['Laboratory 2']\n",
        "lab3 = df['Laboratory 3']\n",
        "lab4 = df['Laboratory 4']\n",
        "\n",
        "# Perform ANOVA test\n",
        "F_value, p_value = stats.f_oneway(lab1, lab2, lab3, lab4)\n",
        "\n",
        "# Check if p-value is less than significance level (0.05)\n",
        "if p_value < 0.05:\n",
        "    print(\"There is a significant difference in the average TAT among the different laboratories\")\n",
        "else:\n",
        "    print(\"There is no significant difference in the average TAT among the different laboratories\")\n"
      ],
      "metadata": {
        "colab": {
          "base_uri": "https://localhost:8080/"
        },
        "id": "txGcls_Ak4Y_",
        "outputId": "7ba2b7ff-932b-44fd-dd80-ecfb1c00cd05"
      },
      "execution_count": 11,
      "outputs": [
        {
          "output_type": "stream",
          "name": "stdout",
          "text": [
            "There is a significant difference in the average TAT among the different laboratories\n"
          ]
        }
      ]
    },
    {
      "cell_type": "markdown",
      "source": [
        "\n",
        "# Question 3: Buyer Ratio"
      ],
      "metadata": {
        "id": "CYwIIGSgbDOO"
      }
    },
    {
      "cell_type": "markdown",
      "source": [
        "**Question**- Sales of products in four different regions is tabulated for males and females. Find if male-female buyer rations are similar across regions.\n",
        "\n",
        "Ho= All proportions are equal. \n",
        "\n",
        "Ha= Not all proportions are equal. \n",
        "\n",
        "1. Check p-value.\n",
        "2. If p-value < alpha, we reject Null Hypothesis."
      ],
      "metadata": {
        "id": "l03O4yT2cjDI"
      }
    },
    {
      "cell_type": "markdown",
      "source": [
        "**Answer**- To test if the male-female buyer ratios are similar across regions, we can use a chi-squared test for goodness of fit."
      ],
      "metadata": {
        "id": "DKv8qZuKnACT"
      }
    },
    {
      "cell_type": "code",
      "source": [
        "from scipy.stats import chi2_contingency\n",
        "\n",
        "# Observed data (males, females) for each region\n",
        "East = [50, 435]\n",
        "West = [142, 1523]\n",
        "North = [131, 1356]\n",
        "South = [70, 750]\n",
        "\n",
        "# Combine data into a single contingency table\n",
        "data = [East, West, North, South]\n",
        "\n",
        "# Perform chi-squared test\n",
        "chi2, p, dof, expected = chi2_contingency(data)\n",
        "\n",
        "# Check if p-value is less than significance level (0.05)\n",
        "if p < 0.05:\n",
        "    print(\"Reject Null Hypothesis. Not all proportions are equal.\")\n",
        "else:\n",
        "    print(\"Fail to reject Null Hypothesis. All proportions are equal.\")"
      ],
      "metadata": {
        "colab": {
          "base_uri": "https://localhost:8080/"
        },
        "id": "_KYc9ojynKYi",
        "outputId": "f67d2568-57e1-4eae-ecc7-f6ec063b2361"
      },
      "execution_count": 12,
      "outputs": [
        {
          "output_type": "stream",
          "name": "stdout",
          "text": [
            "Fail to reject Null Hypothesis. All proportions are equal.\n"
          ]
        }
      ]
    },
    {
      "cell_type": "markdown",
      "source": [
        "# Question 4: Customer Order Form"
      ],
      "metadata": {
        "id": "yFept5yYbPAN"
      }
    },
    {
      "cell_type": "markdown",
      "source": [
        "**Question**- TeleCall uses 4 centres around the globe to process customer order forms. They audit a certain % of the customer order forms. Any error in order form renders it defective and has to be reworked before processing. The manager wants to check whether the defective % varies by centre. Please analyze the data at 5% significance level and help the manager  draw appropriate inferences. "
      ],
      "metadata": {
        "id": "DxHmWjF6b2U9"
      }
    },
    {
      "cell_type": "markdown",
      "source": [
        "**Answer**-"
      ],
      "metadata": {
        "id": "_HcCY_w7nxom"
      }
    },
    {
      "cell_type": "code",
      "source": [
        "import pandas as pd\n",
        "from scipy import stats as stats\n",
        "from scipy.stats import chi2_contingency\n",
        "from scipy.stats import chi2\n",
        "df = pd.read_csv('/content/Costomer+OrderForm.csv')"
      ],
      "metadata": {
        "id": "asHye7psoPTv"
      },
      "execution_count": 26,
      "outputs": []
    },
    {
      "cell_type": "code",
      "source": [
        "df.head()"
      ],
      "metadata": {
        "colab": {
          "base_uri": "https://localhost:8080/",
          "height": 206
        },
        "id": "z3fhFkMurpph",
        "outputId": "911383d6-f2e9-464d-d4c9-2bab182e8a5d"
      },
      "execution_count": 18,
      "outputs": [
        {
          "output_type": "execute_result",
          "data": {
            "text/plain": [
              "  Phillippines   Indonesia       Malta       India\n",
              "0   Error Free  Error Free   Defective  Error Free\n",
              "1   Error Free  Error Free  Error Free   Defective\n",
              "2   Error Free   Defective   Defective  Error Free\n",
              "3   Error Free  Error Free  Error Free  Error Free\n",
              "4   Error Free  Error Free   Defective  Error Free"
            ],
            "text/html": [
              "\n",
              "  <div id=\"df-824fe9c5-c579-4f5b-a069-27fb655a91ec\">\n",
              "    <div class=\"colab-df-container\">\n",
              "      <div>\n",
              "<style scoped>\n",
              "    .dataframe tbody tr th:only-of-type {\n",
              "        vertical-align: middle;\n",
              "    }\n",
              "\n",
              "    .dataframe tbody tr th {\n",
              "        vertical-align: top;\n",
              "    }\n",
              "\n",
              "    .dataframe thead th {\n",
              "        text-align: right;\n",
              "    }\n",
              "</style>\n",
              "<table border=\"1\" class=\"dataframe\">\n",
              "  <thead>\n",
              "    <tr style=\"text-align: right;\">\n",
              "      <th></th>\n",
              "      <th>Phillippines</th>\n",
              "      <th>Indonesia</th>\n",
              "      <th>Malta</th>\n",
              "      <th>India</th>\n",
              "    </tr>\n",
              "  </thead>\n",
              "  <tbody>\n",
              "    <tr>\n",
              "      <th>0</th>\n",
              "      <td>Error Free</td>\n",
              "      <td>Error Free</td>\n",
              "      <td>Defective</td>\n",
              "      <td>Error Free</td>\n",
              "    </tr>\n",
              "    <tr>\n",
              "      <th>1</th>\n",
              "      <td>Error Free</td>\n",
              "      <td>Error Free</td>\n",
              "      <td>Error Free</td>\n",
              "      <td>Defective</td>\n",
              "    </tr>\n",
              "    <tr>\n",
              "      <th>2</th>\n",
              "      <td>Error Free</td>\n",
              "      <td>Defective</td>\n",
              "      <td>Defective</td>\n",
              "      <td>Error Free</td>\n",
              "    </tr>\n",
              "    <tr>\n",
              "      <th>3</th>\n",
              "      <td>Error Free</td>\n",
              "      <td>Error Free</td>\n",
              "      <td>Error Free</td>\n",
              "      <td>Error Free</td>\n",
              "    </tr>\n",
              "    <tr>\n",
              "      <th>4</th>\n",
              "      <td>Error Free</td>\n",
              "      <td>Error Free</td>\n",
              "      <td>Defective</td>\n",
              "      <td>Error Free</td>\n",
              "    </tr>\n",
              "  </tbody>\n",
              "</table>\n",
              "</div>\n",
              "      <button class=\"colab-df-convert\" onclick=\"convertToInteractive('df-824fe9c5-c579-4f5b-a069-27fb655a91ec')\"\n",
              "              title=\"Convert this dataframe to an interactive table.\"\n",
              "              style=\"display:none;\">\n",
              "        \n",
              "  <svg xmlns=\"http://www.w3.org/2000/svg\" height=\"24px\"viewBox=\"0 0 24 24\"\n",
              "       width=\"24px\">\n",
              "    <path d=\"M0 0h24v24H0V0z\" fill=\"none\"/>\n",
              "    <path d=\"M18.56 5.44l.94 2.06.94-2.06 2.06-.94-2.06-.94-.94-2.06-.94 2.06-2.06.94zm-11 1L8.5 8.5l.94-2.06 2.06-.94-2.06-.94L8.5 2.5l-.94 2.06-2.06.94zm10 10l.94 2.06.94-2.06 2.06-.94-2.06-.94-.94-2.06-.94 2.06-2.06.94z\"/><path d=\"M17.41 7.96l-1.37-1.37c-.4-.4-.92-.59-1.43-.59-.52 0-1.04.2-1.43.59L10.3 9.45l-7.72 7.72c-.78.78-.78 2.05 0 2.83L4 21.41c.39.39.9.59 1.41.59.51 0 1.02-.2 1.41-.59l7.78-7.78 2.81-2.81c.8-.78.8-2.07 0-2.86zM5.41 20L4 18.59l7.72-7.72 1.47 1.35L5.41 20z\"/>\n",
              "  </svg>\n",
              "      </button>\n",
              "      \n",
              "  <style>\n",
              "    .colab-df-container {\n",
              "      display:flex;\n",
              "      flex-wrap:wrap;\n",
              "      gap: 12px;\n",
              "    }\n",
              "\n",
              "    .colab-df-convert {\n",
              "      background-color: #E8F0FE;\n",
              "      border: none;\n",
              "      border-radius: 50%;\n",
              "      cursor: pointer;\n",
              "      display: none;\n",
              "      fill: #1967D2;\n",
              "      height: 32px;\n",
              "      padding: 0 0 0 0;\n",
              "      width: 32px;\n",
              "    }\n",
              "\n",
              "    .colab-df-convert:hover {\n",
              "      background-color: #E2EBFA;\n",
              "      box-shadow: 0px 1px 2px rgba(60, 64, 67, 0.3), 0px 1px 3px 1px rgba(60, 64, 67, 0.15);\n",
              "      fill: #174EA6;\n",
              "    }\n",
              "\n",
              "    [theme=dark] .colab-df-convert {\n",
              "      background-color: #3B4455;\n",
              "      fill: #D2E3FC;\n",
              "    }\n",
              "\n",
              "    [theme=dark] .colab-df-convert:hover {\n",
              "      background-color: #434B5C;\n",
              "      box-shadow: 0px 1px 3px 1px rgba(0, 0, 0, 0.15);\n",
              "      filter: drop-shadow(0px 1px 2px rgba(0, 0, 0, 0.3));\n",
              "      fill: #FFFFFF;\n",
              "    }\n",
              "  </style>\n",
              "\n",
              "      <script>\n",
              "        const buttonEl =\n",
              "          document.querySelector('#df-824fe9c5-c579-4f5b-a069-27fb655a91ec button.colab-df-convert');\n",
              "        buttonEl.style.display =\n",
              "          google.colab.kernel.accessAllowed ? 'block' : 'none';\n",
              "\n",
              "        async function convertToInteractive(key) {\n",
              "          const element = document.querySelector('#df-824fe9c5-c579-4f5b-a069-27fb655a91ec');\n",
              "          const dataTable =\n",
              "            await google.colab.kernel.invokeFunction('convertToInteractive',\n",
              "                                                     [key], {});\n",
              "          if (!dataTable) return;\n",
              "\n",
              "          const docLinkHtml = 'Like what you see? Visit the ' +\n",
              "            '<a target=\"_blank\" href=https://colab.research.google.com/notebooks/data_table.ipynb>data table notebook</a>'\n",
              "            + ' to learn more about interactive tables.';\n",
              "          element.innerHTML = '';\n",
              "          dataTable['output_type'] = 'display_data';\n",
              "          await google.colab.output.renderOutput(dataTable, element);\n",
              "          const docLink = document.createElement('div');\n",
              "          docLink.innerHTML = docLinkHtml;\n",
              "          element.appendChild(docLink);\n",
              "        }\n",
              "      </script>\n",
              "    </div>\n",
              "  </div>\n",
              "  "
            ]
          },
          "metadata": {},
          "execution_count": 18
        }
      ]
    },
    {
      "cell_type": "code",
      "source": [
        "print(df['Phillippines'].value_counts(),df['Indonesia'].value_counts(),df['Malta'].value_counts(),df['India'].value_counts())\n"
      ],
      "metadata": {
        "colab": {
          "base_uri": "https://localhost:8080/"
        },
        "id": "GB70EDDFrx5N",
        "outputId": "d0caf276-5c21-4658-9222-86aa20a5c725"
      },
      "execution_count": 19,
      "outputs": [
        {
          "output_type": "stream",
          "name": "stdout",
          "text": [
            "Error Free    271\n",
            "Defective      29\n",
            "Name: Phillippines, dtype: int64 Error Free    267\n",
            "Defective      33\n",
            "Name: Indonesia, dtype: int64 Error Free    269\n",
            "Defective      31\n",
            "Name: Malta, dtype: int64 Error Free    280\n",
            "Defective      20\n",
            "Name: India, dtype: int64\n"
          ]
        }
      ]
    },
    {
      "cell_type": "code",
      "source": [
        "observed=([[271,267,269,280],[29,33,31,20]])"
      ],
      "metadata": {
        "id": "hUIWAGN_r-fk"
      },
      "execution_count": 20,
      "outputs": []
    },
    {
      "cell_type": "code",
      "source": [
        "stat, p, dof, expected = chi2_contingency([[271,267,269,280],[29,33,31,20]])\n",
        "print(stat)\n",
        "print(p)\n",
        "print('dof=%d' % dof)\n",
        "print(expected)"
      ],
      "metadata": {
        "colab": {
          "base_uri": "https://localhost:8080/"
        },
        "id": "ARzUAUcksGKI",
        "outputId": "377731ca-76bd-4cd6-869f-319203a3128c"
      },
      "execution_count": 24,
      "outputs": [
        {
          "output_type": "stream",
          "name": "stdout",
          "text": [
            "3.858960685820355\n",
            "0.2771020991233135\n",
            "dof=3\n",
            "[[271.75 271.75 271.75 271.75]\n",
            " [ 28.25  28.25  28.25  28.25]]\n"
          ]
        }
      ]
    },
    {
      "cell_type": "code",
      "source": [
        "alpha = 0.05\n",
        "prob=1-alpha\n",
        "critical = chi2.ppf(prob, dof)\n",
        "print('probability=%.3f, critical=%.3f, stat=%.3f' % (prob, critical, stat))\n",
        "if abs(stat) >= critical:\n",
        "\tprint('Dependent (reject H0),variables are related')\n",
        "else:\n",
        "\tprint('Independent (fail to reject H0), variables are not related')"
      ],
      "metadata": {
        "colab": {
          "base_uri": "https://localhost:8080/"
        },
        "id": "JlV9MtaasZWW",
        "outputId": "da162ea6-b56a-462c-cbfd-c36084c5ff72"
      },
      "execution_count": 27,
      "outputs": [
        {
          "output_type": "stream",
          "name": "stdout",
          "text": [
            "probability=0.950, critical=7.815, stat=3.859\n",
            "Independent (fail to reject H0), variables are not related\n"
          ]
        }
      ]
    },
    {
      "cell_type": "code",
      "source": [
        "print('significance=%.3f, p=%.3f' % (alpha, p))\n",
        "if p <= alpha:\n",
        "\tprint('Dependent (reject H0)')\n",
        "else:\n",
        "\tprint('Independent (fail to reject H0)')"
      ],
      "metadata": {
        "colab": {
          "base_uri": "https://localhost:8080/"
        },
        "id": "1pZypDTssuGS",
        "outputId": "5ae0f42c-1aaa-40e7-b4bd-b0359dc03517"
      },
      "execution_count": 28,
      "outputs": [
        {
          "output_type": "stream",
          "name": "stdout",
          "text": [
            "significance=0.050, p=0.277\n",
            "Independent (fail to reject H0)\n"
          ]
        }
      ]
    }
  ]
}